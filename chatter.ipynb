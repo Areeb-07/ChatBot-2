{
  "cells": [
    {
      "cell_type": "markdown",
      "metadata": {
        "id": "view-in-github",
        "colab_type": "text"
      },
      "source": [
        "<a href=\"https://colab.research.google.com/github/Areeb-07/ChatBot-2/blob/main/chatter.ipynb\" target=\"_parent\"><img src=\"https://colab.research.google.com/assets/colab-badge.svg\" alt=\"Open In Colab\"/></a>"
      ]
    },
    {
      "cell_type": "code",
      "execution_count": 2,
      "metadata": {
        "id": "vvwJ9hyOCGFZ"
      },
      "outputs": [],
      "source": [
        "import numpy as np\n",
        "import pandas as pd\n",
        "from keras.models import Model\n",
        "from keras.layers import Dense, Input, Dropout, LSTM, Activation\n",
        "from keras.layers.embeddings import Embedding"
      ]
    },
    {
      "cell_type": "code",
      "execution_count": 3,
      "metadata": {
        "colab": {
          "base_uri": "https://localhost:8080/"
        },
        "id": "P-NTLDBCCuts",
        "outputId": "0fd4c7b5-21ee-4ab1-8088-f1145b1fdfab"
      },
      "outputs": [
        {
          "output_type": "stream",
          "name": "stdout",
          "text": [
            "Mounted at /content/drive\n"
          ]
        }
      ],
      "source": [
        "from google.colab import drive\n",
        "drive.mount('/content/drive')"
      ]
    },
    {
      "cell_type": "code",
      "execution_count": 4,
      "metadata": {
        "id": "yvxECHpqDTUD"
      },
      "outputs": [],
      "source": [
        "data = pd.read_csv('/content/drive/MyDrive/chatbot/Data.csv')"
      ]
    },
    {
      "cell_type": "code",
      "execution_count": 5,
      "metadata": {
        "id": "dUugKxj4EYKA"
      },
      "outputs": [],
      "source": [
        "training_data=data.values"
      ]
    },
    {
      "cell_type": "code",
      "execution_count": 6,
      "metadata": {
        "id": "inXZ8awfFH5-"
      },
      "outputs": [],
      "source": [
        "X = training_data[:,:-1]\n",
        "X = [a[0] for a in X]\n",
        "Y = training_data[:,-1]"
      ]
    },
    {
      "cell_type": "code",
      "execution_count": 7,
      "metadata": {
        "id": "E6xzWyIhKphq"
      },
      "outputs": [],
      "source": [
        "oh = np.eye(9)"
      ]
    },
    {
      "cell_type": "code",
      "execution_count": 8,
      "metadata": {
        "id": "76AAYzkOLN2A"
      },
      "outputs": [],
      "source": [
        "Y_oh = [oh[i] for i in Y]"
      ]
    },
    {
      "cell_type": "code",
      "execution_count": 9,
      "metadata": {
        "id": "669xmF-LFSbe"
      },
      "outputs": [],
      "source": [
        "import csv\n",
        "words = pd.read_table('/content/drive/MyDrive/chatbot/glove.6B.200d.txt', sep=\" \", index_col=0, header=None, quoting=csv.QUOTE_NONE)"
      ]
    },
    {
      "cell_type": "code",
      "execution_count": 10,
      "metadata": {
        "id": "JHYJROIXQD15"
      },
      "outputs": [],
      "source": [
        "def word_2_vec(word):\n",
        "  global words\n",
        "  return words.loc[word].values\n",
        "def index_to_word(index):\n",
        "  global words\n",
        "  return words.index.values[index]\n",
        "def word_to_index(word):\n",
        "  global words\n",
        "  return int(list(words.index.values).index(word))"
      ]
    },
    {
      "cell_type": "code",
      "execution_count": 11,
      "metadata": {
        "id": "7_XKiyJsVAkn"
      },
      "outputs": [],
      "source": [
        "import string \n",
        "result = string.punctuation \n",
        "punctuations = [i for i in result]"
      ]
    },
    {
      "cell_type": "code",
      "execution_count": 20,
      "metadata": {
        "id": "vXPpbfdSSAPl"
      },
      "outputs": [],
      "source": [
        "def sentences_to_indices(X, max_len):\n",
        " \n",
        "    m = len(X)                                \n",
        "    \n",
        "    X_indices = np.zeros((m,max_len))\n",
        "    \n",
        "    for i in range(m):                             \n",
        "        \n",
        "        sentence_words = []\n",
        "        for k in X[i].split():\n",
        "          found = False\n",
        "          ind = None\n",
        "          for l in k:\n",
        "              if l in punctuations:\n",
        "                found = True\n",
        "                ind = k.index(l)\n",
        "                break\n",
        "          if found:\n",
        "              sentence_words.append(k[:ind].lower())\n",
        "              sentence_words.append(k[ind:].lower())\n",
        "              continue\n",
        "          sentence_words.append(k.lower())      \n",
        "        j = 0\n",
        "\n",
        "        for w in sentence_words:\n",
        "            X_indices[i, j] = int(word_to_index(w))\n",
        "            j += 1    \n",
        "        int_array = X_indices.astype(int)\n",
        "    return int_array"
      ]
    },
    {
      "cell_type": "code",
      "execution_count": 13,
      "metadata": {
        "id": "f0GjQAM3au8p"
      },
      "outputs": [],
      "source": [
        "def pretrained_embedding_layer():\n",
        "    vocab_len = len(words.index.values) + 1                  \n",
        "    emb_dim = word_2_vec(\"cucumber\").shape[0]     \n",
        "\n",
        "    emb_matrix = np.zeros((vocab_len,emb_dim))\n",
        "\n",
        "    for index in range(vocab_len-1):\n",
        "      if index_to_word(index) == index_to_word(index):\n",
        "        embedding_vector = word_2_vec(index_to_word(index))\n",
        "        if embedding_vector is not None:\n",
        "          emb_matrix[index, :] = embedding_vector\n",
        "\n",
        "    embedding_layer = Embedding(vocab_len, emb_dim,trainable=False)\n",
        "\n",
        "    embedding_layer.build((None,))\n",
        "\n",
        "    embedding_layer.set_weights([emb_matrix])\n",
        "    \n",
        "    return embedding_layer"
      ]
    },
    {
      "cell_type": "code",
      "execution_count": 14,
      "metadata": {
        "id": "SjGIWTBCdqnP"
      },
      "outputs": [],
      "source": [
        "def chatbot(input_shape):\n",
        "\n",
        "    sentence_indices = Input(shape = input_shape, dtype = 'int32')\n",
        "\n",
        "    embedding_layer = pretrained_embedding_layer()\n",
        "\n",
        "    embeddings = embedding_layer(sentence_indices)   \n",
        "\n",
        "    X = LSTM(128, return_sequences=True)(embeddings)\n",
        "\n",
        "    X = Dropout(0.5)(X)\n",
        "\n",
        "    X = LSTM(128, return_sequences=False)(X)\n",
        "\n",
        "    X = Dropout(0.5)(X)\n",
        "\n",
        "    X = Dense(9)(X)\n",
        "\n",
        "    X = Activation(\"softmax\")(X)\n",
        "    model = Model(inputs=sentence_indices, outputs=X)\n",
        "\n",
        "    return model"
      ]
    },
    {
      "cell_type": "code",
      "execution_count": 15,
      "metadata": {
        "colab": {
          "base_uri": "https://localhost:8080/"
        },
        "id": "U2s8IRdw0qfN",
        "outputId": "f04bdd1e-7c48-4401-822f-ec8c1a5cc332"
      },
      "outputs": [
        {
          "output_type": "stream",
          "name": "stdout",
          "text": [
            "Model: \"model\"\n",
            "_________________________________________________________________\n",
            " Layer (type)                Output Shape              Param #   \n",
            "=================================================================\n",
            " input_1 (InputLayer)        [(None, 10)]              0         \n",
            "                                                                 \n",
            " embedding (Embedding)       (None, 10, 200)           80000200  \n",
            "                                                                 \n",
            " lstm (LSTM)                 (None, 10, 128)           168448    \n",
            "                                                                 \n",
            " dropout (Dropout)           (None, 10, 128)           0         \n",
            "                                                                 \n",
            " lstm_1 (LSTM)               (None, 128)               131584    \n",
            "                                                                 \n",
            " dropout_1 (Dropout)         (None, 128)               0         \n",
            "                                                                 \n",
            " dense (Dense)               (None, 9)                 1161      \n",
            "                                                                 \n",
            " activation (Activation)     (None, 9)                 0         \n",
            "                                                                 \n",
            "=================================================================\n",
            "Total params: 80,301,393\n",
            "Trainable params: 301,193\n",
            "Non-trainable params: 80,000,200\n",
            "_________________________________________________________________\n"
          ]
        }
      ],
      "source": [
        "model = chatbot((10,))\n",
        "model.summary()"
      ]
    },
    {
      "cell_type": "code",
      "execution_count": 16,
      "metadata": {
        "id": "3IjS7UYm1mjM"
      },
      "outputs": [],
      "source": [
        "model.compile(loss='categorical_crossentropy', optimizer='adam', metrics=['accuracy'])"
      ]
    },
    {
      "cell_type": "code",
      "execution_count": 21,
      "metadata": {
        "id": "gmhHDEbS1q19"
      },
      "outputs": [],
      "source": [
        "X_train_indices = sentences_to_indices(X, 10)"
      ]
    },
    {
      "cell_type": "code",
      "source": [
        "Y_train = np.array(Y_oh)"
      ],
      "metadata": {
        "id": "O7wgBj5o_Hl4"
      },
      "execution_count": 26,
      "outputs": []
    },
    {
      "cell_type": "code",
      "execution_count": 30,
      "metadata": {
        "colab": {
          "base_uri": "https://localhost:8080/"
        },
        "id": "1kcBniXP11iC",
        "outputId": "5b6d0237-d5ec-4d76-a947-397a56bf358d"
      },
      "outputs": [
        {
          "output_type": "stream",
          "name": "stdout",
          "text": [
            "Epoch 1/50\n",
            "2/2 [==============================] - 7s 22ms/step - loss: 2.1869 - accuracy: 0.1064\n",
            "Epoch 2/50\n",
            "2/2 [==============================] - 0s 13ms/step - loss: 2.0970 - accuracy: 0.2766\n",
            "Epoch 3/50\n",
            "2/2 [==============================] - 0s 13ms/step - loss: 2.0296 - accuracy: 0.3617\n",
            "Epoch 4/50\n",
            "2/2 [==============================] - 0s 13ms/step - loss: 1.9961 - accuracy: 0.3617\n",
            "Epoch 5/50\n",
            "2/2 [==============================] - 0s 12ms/step - loss: 1.9160 - accuracy: 0.3617\n",
            "Epoch 6/50\n",
            "2/2 [==============================] - 0s 13ms/step - loss: 1.8797 - accuracy: 0.3404\n",
            "Epoch 7/50\n",
            "2/2 [==============================] - 0s 9ms/step - loss: 1.7190 - accuracy: 0.4255\n",
            "Epoch 8/50\n",
            "2/2 [==============================] - 0s 12ms/step - loss: 1.5208 - accuracy: 0.4894\n",
            "Epoch 9/50\n",
            "2/2 [==============================] - 0s 12ms/step - loss: 1.4121 - accuracy: 0.5532\n",
            "Epoch 10/50\n",
            "2/2 [==============================] - 0s 12ms/step - loss: 1.3621 - accuracy: 0.5319\n",
            "Epoch 11/50\n",
            "2/2 [==============================] - 0s 11ms/step - loss: 1.2479 - accuracy: 0.5745\n",
            "Epoch 12/50\n",
            "2/2 [==============================] - 0s 8ms/step - loss: 1.1813 - accuracy: 0.6809\n",
            "Epoch 13/50\n",
            "2/2 [==============================] - 0s 12ms/step - loss: 1.0211 - accuracy: 0.7021\n",
            "Epoch 14/50\n",
            "2/2 [==============================] - 0s 14ms/step - loss: 0.9553 - accuracy: 0.7021\n",
            "Epoch 15/50\n",
            "2/2 [==============================] - 0s 9ms/step - loss: 0.9555 - accuracy: 0.6596\n",
            "Epoch 16/50\n",
            "2/2 [==============================] - 0s 10ms/step - loss: 0.8884 - accuracy: 0.6596\n",
            "Epoch 17/50\n",
            "2/2 [==============================] - 0s 15ms/step - loss: 0.8032 - accuracy: 0.6809\n",
            "Epoch 18/50\n",
            "2/2 [==============================] - 0s 13ms/step - loss: 0.8166 - accuracy: 0.6809\n",
            "Epoch 19/50\n",
            "2/2 [==============================] - 0s 17ms/step - loss: 0.7223 - accuracy: 0.7021\n",
            "Epoch 20/50\n",
            "2/2 [==============================] - 0s 12ms/step - loss: 0.7026 - accuracy: 0.7234\n",
            "Epoch 21/50\n",
            "2/2 [==============================] - 0s 12ms/step - loss: 0.6847 - accuracy: 0.7021\n",
            "Epoch 22/50\n",
            "2/2 [==============================] - 0s 19ms/step - loss: 0.6597 - accuracy: 0.7872\n",
            "Epoch 23/50\n",
            "2/2 [==============================] - 0s 14ms/step - loss: 0.6595 - accuracy: 0.7660\n",
            "Epoch 24/50\n",
            "2/2 [==============================] - 0s 25ms/step - loss: 0.6755 - accuracy: 0.7447\n",
            "Epoch 25/50\n",
            "2/2 [==============================] - 0s 32ms/step - loss: 0.6219 - accuracy: 0.7660\n",
            "Epoch 26/50\n",
            "2/2 [==============================] - 0s 13ms/step - loss: 0.4996 - accuracy: 0.8085\n",
            "Epoch 27/50\n",
            "2/2 [==============================] - 0s 16ms/step - loss: 0.4627 - accuracy: 0.8298\n",
            "Epoch 28/50\n",
            "2/2 [==============================] - 0s 14ms/step - loss: 0.5590 - accuracy: 0.7234\n",
            "Epoch 29/50\n",
            "2/2 [==============================] - 0s 11ms/step - loss: 0.4354 - accuracy: 0.8298\n",
            "Epoch 30/50\n",
            "2/2 [==============================] - 0s 13ms/step - loss: 0.3827 - accuracy: 0.8936\n",
            "Epoch 31/50\n",
            "2/2 [==============================] - 0s 12ms/step - loss: 0.3733 - accuracy: 0.8511\n",
            "Epoch 32/50\n",
            "2/2 [==============================] - 0s 12ms/step - loss: 0.4030 - accuracy: 0.8298\n",
            "Epoch 33/50\n",
            "2/2 [==============================] - 0s 13ms/step - loss: 0.3219 - accuracy: 0.8511\n",
            "Epoch 34/50\n",
            "2/2 [==============================] - 0s 14ms/step - loss: 0.2718 - accuracy: 0.9149\n",
            "Epoch 35/50\n",
            "2/2 [==============================] - 0s 14ms/step - loss: 0.3241 - accuracy: 0.9149\n",
            "Epoch 36/50\n",
            "2/2 [==============================] - 0s 18ms/step - loss: 0.2873 - accuracy: 0.8936\n",
            "Epoch 37/50\n",
            "2/2 [==============================] - 0s 12ms/step - loss: 0.3234 - accuracy: 0.8511\n",
            "Epoch 38/50\n",
            "2/2 [==============================] - 0s 14ms/step - loss: 0.2425 - accuracy: 0.8936\n",
            "Epoch 39/50\n",
            "2/2 [==============================] - 0s 10ms/step - loss: 0.2263 - accuracy: 0.9149\n",
            "Epoch 40/50\n",
            "2/2 [==============================] - 0s 9ms/step - loss: 0.1996 - accuracy: 0.9149\n",
            "Epoch 41/50\n",
            "2/2 [==============================] - 0s 10ms/step - loss: 0.2163 - accuracy: 0.9362\n",
            "Epoch 42/50\n",
            "2/2 [==============================] - 0s 13ms/step - loss: 0.1895 - accuracy: 0.9362\n",
            "Epoch 43/50\n",
            "2/2 [==============================] - 0s 10ms/step - loss: 0.1854 - accuracy: 0.9149\n",
            "Epoch 44/50\n",
            "2/2 [==============================] - 0s 12ms/step - loss: 0.1844 - accuracy: 0.9149\n",
            "Epoch 45/50\n",
            "2/2 [==============================] - 0s 23ms/step - loss: 0.1588 - accuracy: 0.9149\n",
            "Epoch 46/50\n",
            "2/2 [==============================] - 0s 14ms/step - loss: 0.1673 - accuracy: 0.9574\n",
            "Epoch 47/50\n",
            "2/2 [==============================] - 0s 14ms/step - loss: 0.1216 - accuracy: 0.9787\n",
            "Epoch 48/50\n",
            "2/2 [==============================] - 0s 10ms/step - loss: 0.1084 - accuracy: 0.9574\n",
            "Epoch 49/50\n",
            "2/2 [==============================] - 0s 12ms/step - loss: 0.1405 - accuracy: 0.9149\n",
            "Epoch 50/50\n",
            "2/2 [==============================] - 0s 10ms/step - loss: 0.1193 - accuracy: 0.9149\n"
          ]
        },
        {
          "output_type": "execute_result",
          "data": {
            "text/plain": [
              "<keras.callbacks.History at 0x7f63b00b5b10>"
            ]
          },
          "metadata": {},
          "execution_count": 30
        }
      ],
      "source": [
        "model.fit(X_train_indices, Y_train, epochs = 50, batch_size = 32, shuffle=True)"
      ]
    },
    {
      "cell_type": "code",
      "execution_count": 31,
      "metadata": {
        "id": "dGGeypAv2nhf"
      },
      "outputs": [],
      "source": [
        "def label_to_text(index):\n",
        "  text=[\"Hello, how can I help you?\", \"I am good. How about you?\", \"Nice to meet you too\", \"Have a great day\", \"Goodbye. See you soon\", \"Good morning\", \"Good afternoon\", \"Good evening\", \"Good Night\"]\n",
        "  return text[int(index)]"
      ]
    },
    {
      "cell_type": "code",
      "execution_count": 34,
      "metadata": {
        "id": "vb4TR8Fm149d"
      },
      "outputs": [],
      "source": [
        "def chat():\n",
        "  print(\"Chat with the chatbot. Type q to exit\")\n",
        "  user=input()\n",
        "  while user.lower()!='q':\n",
        "    x_test = np.array([user])\n",
        "    X_test_indices = sentences_to_indices(x_test, 10)\n",
        "    print(label_to_text(np.argmax(model.predict(X_test_indices))))\n",
        "    user=input()"
      ]
    },
    {
      "cell_type": "code",
      "execution_count": 37,
      "metadata": {
        "id": "tX_toFmbEiga",
        "colab": {
          "base_uri": "https://localhost:8080/"
        },
        "outputId": "f06ef9ca-1b5f-49cc-a176-28af11a5ac18"
      },
      "outputs": [
        {
          "name": "stdout",
          "output_type": "stream",
          "text": [
            "Chat with the chatbot. Type q to exit\n",
            "Hello\n",
            "Hello, how can I help you?\n",
            "How you doing?\n",
            "I am good. How about you?\n",
            "Nice meeting you\n",
            "Nice to meet you too\n",
            "Bye Bye\n",
            "Goodbye. See you soon\n",
            "Afternoon\n",
            "Good morning\n",
            "Have a good afternoon\n",
            "Good morning\n",
            "Good night\n",
            "Good Night\n",
            "Have a wonderful day\n",
            "Have a great day\n",
            "See you\n",
            "Goodbye. See you soon\n",
            "q\n"
          ]
        }
      ],
      "source": [
        "chat()"
      ]
    },
    {
      "cell_type": "code",
      "source": [
        "model.save(\"/content/drive/MyDrive/chatbot/chat_model\")"
      ],
      "metadata": {
        "colab": {
          "base_uri": "https://localhost:8080/"
        },
        "id": "n0gb19bhBcnF",
        "outputId": "2d2b28c8-9c01-472e-8694-18e01b2783ea"
      },
      "execution_count": 38,
      "outputs": [
        {
          "output_type": "stream",
          "name": "stderr",
          "text": [
            "WARNING:absl:Found untraced functions such as lstm_cell_layer_call_fn, lstm_cell_layer_call_and_return_conditional_losses, lstm_cell_1_layer_call_fn, lstm_cell_1_layer_call_and_return_conditional_losses while saving (showing 4 of 4). These functions will not be directly callable after loading.\n"
          ]
        },
        {
          "output_type": "stream",
          "name": "stdout",
          "text": [
            "INFO:tensorflow:Assets written to: /content/drive/MyDrive/chatbot/chat_model/assets\n"
          ]
        },
        {
          "output_type": "stream",
          "name": "stderr",
          "text": [
            "INFO:tensorflow:Assets written to: /content/drive/MyDrive/chatbot/chat_model/assets\n",
            "WARNING:absl:<keras.layers.recurrent.LSTMCell object at 0x7f63c59b0a50> has the same name 'LSTMCell' as a built-in Keras object. Consider renaming <class 'keras.layers.recurrent.LSTMCell'> to avoid naming conflicts when loading with `tf.keras.models.load_model`. If renaming is not possible, pass the object in the `custom_objects` parameter of the load function.\n",
            "WARNING:absl:<keras.layers.recurrent.LSTMCell object at 0x7f63c4ec1bd0> has the same name 'LSTMCell' as a built-in Keras object. Consider renaming <class 'keras.layers.recurrent.LSTMCell'> to avoid naming conflicts when loading with `tf.keras.models.load_model`. If renaming is not possible, pass the object in the `custom_objects` parameter of the load function.\n"
          ]
        }
      ]
    }
  ],
  "metadata": {
    "colab": {
      "name": "chatter.ipynb",
      "provenance": [],
      "authorship_tag": "ABX9TyO+u5HmG/BayzL9aG5nVaUJ",
      "include_colab_link": true
    },
    "kernelspec": {
      "display_name": "Python 3",
      "name": "python3"
    },
    "language_info": {
      "name": "python"
    },
    "accelerator": "GPU"
  },
  "nbformat": 4,
  "nbformat_minor": 0
}